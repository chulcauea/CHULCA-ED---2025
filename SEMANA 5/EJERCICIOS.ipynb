{
 "cells": [
  {
   "cell_type": "code",
   "execution_count": null,
   "id": "d5ef99f0",
   "metadata": {
    "vscode": {
     "languageId": "javascript"
    }
   },
   "outputs": [],
   "source": [
    "//EJERCICIO 1 Escribir un programa que almacene las asignaturas de un curso (por ejemplo \n",
    "// Matemáticas, Física, Química, Historia y Lengua) en una lista y la muestre por pantalla.\n",
    "import java.util.ArrayList;\n",
    "\n",
    "public class Asignaturas {\n",
    "    public static void main(String[] args) {\n",
    "        // Crear una lista para almacenar las asignaturas\n",
    "        ArrayList<String> asignaturas = new ArrayList<>();\n",
    "\n",
    "        // Añadir las asignaturas a la lista\n",
    "        asignaturas.add(\"Matemáticas\");\n",
    "        asignaturas.add(\"Física\");\n",
    "        asignaturas.add(\"Química\");\n",
    "        asignaturas.add(\"Historia\");\n",
    "        asignaturas.add(\"Lengua\");\n",
    "\n",
    "        // Mostrar las asignaturas por pantalla\n",
    "        System.out.println(\"Asignaturas del curso:\");\n",
    "        for (String asignatura : asignaturas) {\n",
    "            System.out.println(\"- \" + asignatura);\n",
    "        }\n",
    "    }\n",
    "}\n"
   ]
  },
  {
   "cell_type": "code",
   "execution_count": null,
   "id": "91b844cb",
   "metadata": {
    "vscode": {
     "languageId": "javascript"
    }
   },
   "outputs": [],
   "source": [
    "// EJERCIIO 2 Escribir un programa que almacene las asignaturas de un curso (por ejemplo Matemáticas, Física, Química, Historia y Lengua) en una lista y la muestre por pantalla \n",
    "// el mensaje Yo estudio <asignatura>, donde <asignatura> es cada una de las asignaturas de la lista.\n",
    "import java.util.ArrayList;\n",
    "\n",
    "public class Asignaturas {\n",
    "    public static void main(String[] args) {\n",
    "        // Crear la lista de asignaturas\n",
    "        ArrayList<String> asignaturas = new ArrayList<>();\n",
    "\n",
    "        // Agregar las asignaturas a la lista\n",
    "        asignaturas.add(\"Matemáticas\");\n",
    "        asignaturas.add(\"Física\");\n",
    "        asignaturas.add(\"Química\");\n",
    "        asignaturas.add(\"Historia\");\n",
    "        asignaturas.add(\"Lengua\");\n",
    "\n",
    "        // Mostrar el mensaje para cada asignatura\n",
    "        for (String asignatura : asignaturas) {\n",
    "            System.out.println(\"Yo estudio \" + asignatura);\n",
    "        }\n",
    "    }\n",
    "}\n"
   ]
  },
  {
   "cell_type": "code",
   "execution_count": null,
   "id": "4c9e57e9",
   "metadata": {
    "vscode": {
     "languageId": "javascript"
    }
   },
   "outputs": [],
   "source": [
    "// EJERCICIO 3 Escribir un programa que pregunte al usuario los números ganadores de la lotería\n",
    "//  primitiva, los almacene en una lista y los muestre por pantalla ordenados de menor a mayor.\n",
    "import java.util.ArrayList;\n",
    "import java.util.Collections;\n",
    "import java.util.Scanner;\n",
    "\n",
    "public class LoteriaPrimitiva {\n",
    "    public static void main(String[] args) {\n",
    "        Scanner scanner = new Scanner(System.in);\n",
    "        ArrayList<Integer> numerosGanadores = new ArrayList<>();\n",
    "\n",
    "        System.out.println(\"Introduce los 6 números ganadores de la Lotería Primitiva:\");\n",
    "\n",
    "        // Pedir al usuario 6 números\n",
    "        for (int i = 1; i <= 6; i++) {\n",
    "            System.out.print(\"Número \" + i + \": \");\n",
    "            int numero = scanner.nextInt();\n",
    "            numerosGanadores.add(numero);\n",
    "        }\n",
    "\n",
    "        // Ordenar la lista\n",
    "        Collections.sort(numerosGanadores);\n",
    "\n",
    "        // Mostrar los números ordenados\n",
    "        System.out.println(\"Números ganadores ordenados:\");\n",
    "        for (int numero : numerosGanadores) {\n",
    "            System.out.println(numero);\n",
    "        }\n",
    "\n",
    "        scanner.close();\n",
    "    }\n",
    "}\n"
   ]
  },
  {
   "cell_type": "code",
   "execution_count": null,
   "id": "998e50fe",
   "metadata": {
    "vscode": {
     "languageId": "javascript"
    }
   },
   "outputs": [],
   "source": [
    "// Ejercicio 4 Escribir un programa que almacene en una lista los números del 1 al 10 y los\n",
    "//  muestre por pantalla en orden inverso separados por comas.\n",
    "import java.util.ArrayList;\n",
    "import java.util.Collections;\n",
    "\n",
    "public class NumerosInversos {\n",
    "    public static void main(String[] args) {\n",
    "        // Crear la lista y agregar los números del 1 al 10\n",
    "        ArrayList<Integer> numeros = new ArrayList<>();\n",
    "        for (int i = 1; i <= 10; i++) {\n",
    "            numeros.add(i);\n",
    "        }\n",
    "\n",
    "        // Invertir el orden de la lista\n",
    "        Collections.reverse(numeros);\n",
    "\n",
    "        // Mostrar los números en orden inverso, separados por comas\n",
    "        System.out.print(\"Números en orden inverso: \");\n",
    "        for (int i = 0; i < numeros.size(); i++) {\n",
    "            System.out.print(numeros.get(i));\n",
    "            if (i < numeros.size() - 1) {\n",
    "                System.out.print(\", \");\n",
    "            }\n",
    "        }\n",
    "    }\n",
    "}\n"
   ]
  },
  {
   "cell_type": "code",
   "execution_count": null,
   "id": "b3ecdc7d",
   "metadata": {
    "vscode": {
     "languageId": "javascript"
    }
   },
   "outputs": [],
   "source": [
    "//Ejercicio 5 Escribir un programa que almacene en una lista los números del 1 al 10 y los \n",
    "// muestre por pantalla en orden inverso separados por comas.\n",
    "import java.util.ArrayList;\n",
    "import java.util.Collections;\n",
    "\n",
    "public class NumerosInversos {\n",
    "    public static void main(String[] args) {\n",
    "        // Crear la lista y agregar los números del 1 al 10\n",
    "        ArrayList<Integer> numeros = new ArrayList<>();\n",
    "        for (int i = 1; i <= 10; i++) {\n",
    "            numeros.add(i);\n",
    "        }\n",
    "\n",
    "        // Invertir el orden de la lista\n",
    "        Collections.reverse(numeros);\n",
    "\n",
    "        // Mostrar los números en orden inverso, separados por comas\n",
    "        System.out.print(\"Números en orden inverso: \");\n",
    "        for (int i = 0; i < numeros.size(); i++) {\n",
    "            System.out.print(numeros.get(i));\n",
    "            if (i < numeros.size() - 1) {\n",
    "                System.out.print(\", \");\n",
    "            }\n",
    "        }\n",
    "    }\n",
    "}\n"
   ]
  }
 ],
 "metadata": {
  "kernelspec": {
   "display_name": "Python 3",
   "language": "python",
   "name": "python3"
  },
  "language_info": {
   "codemirror_mode": {
    "name": "ipython",
    "version": 3
   },
   "file_extension": ".py",
   "mimetype": "text/x-python",
   "name": "python",
   "nbconvert_exporter": "python",
   "pygments_lexer": "ipython3",
   "version": "3.12.5"
  }
 },
 "nbformat": 4,
 "nbformat_minor": 5
}
